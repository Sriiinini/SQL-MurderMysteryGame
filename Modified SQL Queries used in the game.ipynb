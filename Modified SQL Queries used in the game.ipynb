{
 "cells": [
  {
   "cell_type": "markdown",
   "metadata": {},
   "source": [
    "### SQL Personal Project - Linking Python and SQL"
   ]
  },
  {
   "cell_type": "code",
   "execution_count": 1,
   "metadata": {},
   "outputs": [],
   "source": [
    "import sqlite3\n",
    "import pandas as pd"
   ]
  },
  {
   "cell_type": "code",
   "execution_count": 2,
   "metadata": {},
   "outputs": [],
   "source": [
    "connection = sqlite3.connect('sql-murder-mystery copy.db')"
   ]
  },
  {
   "cell_type": "code",
   "execution_count": 3,
   "metadata": {},
   "outputs": [],
   "source": [
    "cursor = connection.cursor()"
   ]
  },
  {
   "cell_type": "code",
   "execution_count": 4,
   "metadata": {},
   "outputs": [
    {
     "name": "stdout",
     "output_type": "stream",
     "text": [
      "(20180215, 'murder', 'REDACTED REDACTED REDACTED', 'Mellon City')\n",
      "(20180215, 'murder', 'Someone killed her! She dropped dead to the ground.....', 'Mellon City')\n",
      "(20180215, 'murder', 'Security footage shows that there were 2 witnesses. ', 'Mellon City')\n",
      "(20180215, 'murder', 'The witnesses....were there any witnesses? No one came to report anything', 'Mellon City')\n",
      "(20180215, 'murder', 'The crime took place on 15th February 2018 at Mellon City.  It was sudden and unexpected.  ', 'Mellon City')\n",
      "(20180215, 'murder', 'Nowadays, crimes have been increasing... Mellon City is not a safee place anymore', 'Mellon City')\n",
      "(20180215, 'murder', 'Look at the Security Footage!!!!', 'Mellon City')\n",
      "(20180215, 'murder', 'The first witness lives at the last house on xx???Xx?X', 'Mellon City')\n",
      "(20180215, 'murder', 'Officer wrote down the name of the second witness. It is xxx??Xx?Xxx', 'Mellon City')\n"
     ]
    }
   ],
   "source": [
    "cursor.execute('''\n",
    "    SELECT * \n",
    "    FROM crime_scene_report\n",
    "    WHERE type = 'murder' \n",
    "    AND city = 'Mellon City' \n",
    "''')\n",
    "\n",
    "rows = cursor.fetchall()\n",
    "\n",
    "if rows:\n",
    "    for row in rows:\n",
    "        print(row)"
   ]
  },
  {
   "cell_type": "code",
   "execution_count": 7,
   "metadata": {},
   "outputs": [],
   "source": [
    "# Display the table in Streamlit\n",
    "#column_names = [description[0] for description in cursor.description]\n",
    "#if rows:\n",
    "    #st.table(data=rows, header=column_names)\n",
    "#else:\n",
    "    #st.warning('No results found.')"
   ]
  },
  {
   "cell_type": "markdown",
   "metadata": {},
   "source": [
    "Make Players guess the address of Witness 1 through Secret Code\n",
    "\n",
    "Take User's Input for address"
   ]
  },
  {
   "cell_type": "code",
   "execution_count": 5,
   "metadata": {},
   "outputs": [],
   "source": [
    "user_W1address = input(\"Enter the secret code that you have found above: \")\n",
    "user_W1address = user_W1address.strip()"
   ]
  },
  {
   "cell_type": "markdown",
   "metadata": {},
   "source": [
    "Table shown to players to guess Witness 1:\n",
    "- so they are being shown all the people living in Northwestern Dr, they have to look at the address number and choose the witness with the largest address number (i.e. the one living the furthest)"
   ]
  },
  {
   "cell_type": "code",
   "execution_count": 6,
   "metadata": {},
   "outputs": [
    {
     "name": "stdout",
     "output_type": "stream",
     "text": [
      "(68690, 'Yer Modest', 852404, 3046, 'Northwestern Dr', '419238039')\n",
      "(15171, 'Weldon Penso', 336999, 311, 'Northwestern Dr', '131379495')\n",
      "(34352, 'Vincenza Burkhardt', 436470, 2512, 'Northwestern Dr', '197913046')\n",
      "(73368, 'Torie Thalmann', 773862, 3697, 'Northwestern Dr', '341559436')\n",
      "(88423, 'Teri Ehrich', 510876, 1879, 'Northwestern Dr', '248637345')\n",
      "(53890, 'Sophie Tiberio', 957671, 4580, 'Northwestern Dr', '442830147')\n",
      "(54564, 'Sammie Sengun', 217286, 2590, 'Northwestern Dr', '848854310')\n",
      "(40760, 'Renata Faver', 976650, 745, 'Northwestern Dr', '547572040')\n",
      "(28360, 'Rashad Cascone', 924517, 3212, 'Northwestern Dr', '838907424')\n",
      "(25615, 'Olevia Morena', 388477, 812, 'Northwestern Dr', '962831331')\n",
      "(10010, 'Muoi Cary', 385336, 741, 'Northwestern Dr', '828638512')\n",
      "(14887, 'Morty Schapiro', 118009, 4919, 'Northwestern Dr', '111564949')\n",
      "(87456, 'Leonora Wolfsberger', 215868, 3483, 'Northwestern Dr', '565203106')\n",
      "(71924, 'Laurie Scronce', 774116, 1418, 'Northwestern Dr', '254883636')\n",
      "(17729, 'Lasonya Wildey', 439686, 4002, 'Northwestern Dr', '917817122')\n",
      "(23960, 'Kristopher Lagerberg', 658777, 1392, 'Northwestern Dr', '492912529')\n",
      "(89906, 'Kinsey Erickson', 510019, 309, 'Northwestern Dr', '635287661')\n",
      "(18376, 'Josh Shi', 653712, 1091, 'Northwestern Dr', '193899001')\n",
      "(98593, 'Jonah Toner', 578982, 2947, 'Northwestern Dr', '745853548')\n",
      "(47435, 'Jeremiah Morak', 293173, 3799, 'Northwestern Dr', '457387489')\n",
      "(99826, 'Ivy Kazarian', 994470, 892, 'Northwestern Dr', '208359813')\n",
      "(44542, 'Ivory Mcgrevey', 873842, 897, 'Northwestern Dr', '988557407')\n",
      "(33415, 'Homer Simpson', 108392, 4899, 'Northwestern Dr', '871392019')\n",
      "(40336, 'Fredia Billeter', 251082, 404, 'Northwestern Dr', '108056488')\n",
      "(22239, 'Dusty Sigafus', 710517, 1125, 'Northwestern Dr', '724386723')\n",
      "(80921, 'Donovan Yackley', 222395, 2386, 'Northwestern Dr', '515049359')\n",
      "(85280, 'Donn Duin', 569122, 540, 'Northwestern Dr', '613873810')\n",
      "(90397, 'Dionna Kranwinkle', 797260, 2678, 'Northwestern Dr', '278964807')\n",
      "(72076, 'Courtney Bordeaux', 324614, 1707, 'Northwestern Dr', '347966356')\n",
      "(96595, 'Coretta Cubie', 303645, 3631, 'Northwestern Dr', '378403829')\n",
      "(53699, 'Christian Pagano', 628433, 2585, 'Northwestern Dr', '644772304')\n",
      "(81052, 'Calvin Czelusniak', 471483, 1516, 'Northwestern Dr', '657531837')\n",
      "(26758, 'Angelena Billman', 942074, 629, 'Northwestern Dr', '341854756')\n",
      "(34155, 'Allyson Lazenson', 814209, 2840, 'Northwestern Dr', '991150469')\n",
      "(44004, 'Alison Eska', 327797, 2951, 'Northwestern Dr', '306417867')\n",
      "(39688, 'Abe Roeker', 537445, 689, 'Northwestern Dr', '438969447')\n"
     ]
    }
   ],
   "source": [
    "cursor.execute('''\n",
    "    SELECT * \n",
    "    FROM person\n",
    "    WHERE LOWER(address_street_name) = ?\n",
    "    ORDER BY name DESC\n",
    "''', (user_W1address.lower(),))  # Using a placeholder and passing the variable as a parameter\n",
    "\n",
    "rows = cursor.fetchall()\n",
    "\n",
    "if rows:\n",
    "    for row in rows:\n",
    "        print(row)\n",
    "else:\n",
    "    print ('No results found. Try again!')"
   ]
  },
  {
   "cell_type": "markdown",
   "metadata": {},
   "source": [
    "Get User's Inputs for the name of Witness 1"
   ]
  },
  {
   "cell_type": "code",
   "execution_count": 7,
   "metadata": {},
   "outputs": [],
   "source": [
    "user_W1name = input(\"Who is Witness 1? Write the name here:\")\n",
    "user_W1name = user_W1name.strip()"
   ]
  },
  {
   "cell_type": "markdown",
   "metadata": {},
   "source": [
    "To show the final Answer for Witness 1:"
   ]
  },
  {
   "cell_type": "code",
   "execution_count": 8,
   "metadata": {},
   "outputs": [
    {
     "name": "stdout",
     "output_type": "stream",
     "text": [
      "(14887, 'Morty Schapiro', 118009, 4919, 'Northwestern Dr', '111564949')\n"
     ]
    }
   ],
   "source": [
    "if user_W1name.lower() in ['morty schapiro', 'morty', 'schapiro']:\n",
    "\n",
    "    cursor.execute('''\n",
    "        SELECT * \n",
    "        FROM person\n",
    "        WHERE LOWER(address_street_name) = 'northwestern dr' \n",
    "        ORDER BY address_number DESC\n",
    "        LIMIT 1\n",
    "    ''')\n",
    "\n",
    "    rows = cursor.fetchall()\n",
    "\n",
    "    if rows:\n",
    "            for row in rows:\n",
    "                print(row)\n",
    "                \n",
    "else:\n",
    "    print(\"Oh no! That seems to be incorrect. Please try again! Make sure there are no spelling mistakes, and you are looking for the right clue!\")"
   ]
  },
  {
   "cell_type": "markdown",
   "metadata": {},
   "source": [
    "*|Insert Image| - Make Players guess the name of Witness 2*\n",
    "\n",
    "Take User's Input for 3 letters of the name"
   ]
  },
  {
   "cell_type": "code",
   "execution_count": 9,
   "metadata": {},
   "outputs": [],
   "source": [
    "user_W2name = input(\"What letters do you see? Type it here, so we can find the identity of Witness 2!\")\n",
    "user_W2name = user_W2name.strip()"
   ]
  },
  {
   "cell_type": "code",
   "execution_count": 10,
   "metadata": {},
   "outputs": [
    {
     "name": "stdout",
     "output_type": "stream",
     "text": [
      "(16371, 'Annabel Miller', 490173, 103, 'Franklin Ave', '318771143')\n"
     ]
    }
   ],
   "source": [
    "if user_W2name.lower() in ['ann', 'nna']:\n",
    "\n",
    "    cursor.execute('''\n",
    "        SELECT * \n",
    "        FROM person\n",
    "        WHERE address_street_name = 'Franklin Ave'\n",
    "        AND LOWER(name) LIKE ?\n",
    "    ''', ('%' + user_W2name.lower() + '%',))\n",
    "\n",
    "    rows = cursor.fetchall()\n",
    "\n",
    "    if rows:\n",
    "            for row in rows:\n",
    "                print(row)\n",
    "\n",
    "elif user_W2name.lower() == 'nan':\n",
    "    print ('No results found. Try again! Maybe you can try switching the order?')\n",
    "    \n",
    "else:\n",
    "    print(\"Oh no! That seems to be incorrect. Please try again! Make sure there are no spaces between each letter, and you are looking for the right clue!\")"
   ]
  },
  {
   "cell_type": "markdown",
   "metadata": {},
   "source": [
    "Take User's Input for witness' ID numbers - based on the table we showed them above"
   ]
  },
  {
   "cell_type": "code",
   "execution_count": 11,
   "metadata": {},
   "outputs": [],
   "source": [
    "user_W1id = input(\"What is the ID number of Witness 1?\")\n",
    "user_W1id = user_W1id.strip()\n",
    "\n",
    "user_W2id = input(\"What is the ID number of Witness 2?\")\n",
    "user_W2id = user_W2id.strip()"
   ]
  },
  {
   "cell_type": "code",
   "execution_count": 12,
   "metadata": {},
   "outputs": [
    {
     "name": "stdout",
     "output_type": "stream",
     "text": [
      "(14887, 'I heard a gunshot and then saw a middle-aged man run out.')\n",
      "(16371, 'I saw the murder happen!! And I recognized the killer from my gym.')\n",
      "(14887, 'He had a \"Get Fit Now Gym\" bag.  The membership number on the bag started with \"48Z\".  ')\n",
      "(16371, 'I saw him at the gym when I was working out last week on January the 9th.  He was using the VIP section of the gym, so he defenitely got to be a gold or platinum member.')\n",
      "(14887, 'Observed a person with a hat,  maybe.  Wearing a distinctive pendant.  Movements were deliberate.  Hard to recall facial features.')\n",
      "(16371, 'He is relatively tall, has brown hair.  Glasses perched low.  Carrying a gym bag along with him everywhere he goes.')\n",
      "(16371, \"Unfortunately,  I am not a gold member and I don't have that gym bag,  but I really do want one.  The gym bag is so beautiful and highly functional. \")\n",
      "(14887, \" He got into a car.  I didn't see the number plate but I took a picture of it. \")\n"
     ]
    }
   ],
   "source": [
    "cursor.execute('''\n",
    "    SELECT *\n",
    "    FROM interview\n",
    "    WHERE person_id IN (?, ?)\n",
    "''', (user_W1id, user_W2id))\n",
    "\n",
    "rows = cursor.fetchall()\n",
    "\n",
    "if rows:\n",
    "        for row in rows:\n",
    "            print(row)\n",
    "else:\n",
    "    print('Oh no, that does not seem correct. Please try again! Are you sure you got the codes right?')"
   ]
  },
  {
   "cell_type": "markdown",
   "metadata": {},
   "source": [
    "Here is a list of suspects and the information collected from them. Based on the witness reports, are you able to guess the murderer?"
   ]
  },
  {
   "cell_type": "markdown",
   "metadata": {},
   "source": [
    "Table to be shown to players to make them guess the murderer:"
   ]
  },
  {
   "cell_type": "code",
   "execution_count": 13,
   "metadata": {},
   "outputs": [
    {
     "name": "stdout",
     "output_type": "stream",
     "text": [
      "('Carolin Orellano', 990930, 19, 55, 'blue', 'brown', 'female', '78B71X', 'Tesla', 'Leganza', 'black', 20180325, 'silver')\n",
      "('Marcelino Leard', 987369, 25, 58, 'amber', 'brown', 'male', '82P3RF', 'GMC', 'Yukon XL', 'gold', 20180428, 'silver')\n",
      "('Honey Erbentraut', 982387, 43, 60, 'green', 'red', 'female', '03L2UL', 'Ford', 'Contour', 'red', 20171123, 'regular')\n",
      "('Luanne Bhan', 982103, 18, 74, 'green', 'green', 'female', '8TF75Q', 'Panoz', 'Esperante', 'blue', 20170919, 'gold')\n",
      "('Alvin Fornes', 976619, 67, 51, 'black', 'brown', 'male', '6JWYKL', 'Suzuki', 'Daewoo Lacetti', 'black', 20170815, 'silver')\n",
      "('Elizebeth Torgersen', 969187, 60, 75, 'blue', 'black', 'female', '4VXVHC', 'Ford', 'Expedition', 'blue', 20180323, 'gold')\n",
      "('Cher Rivenbark', 965895, 65, 54, 'brown', 'white', 'female', 'MDV1R3', 'Mazda', 'Protege', 'blue', 20180123, 'silver')\n",
      "('Audria Vosburgh', 952690, 80, 80, 'green', 'white', 'female', '4F31NZ', 'Tesla', 'Frontier', 'black', 20180309, 'gold')\n",
      "('Adriane Pelligra', 952073, 51, 59, 'amber', 'grey', 'male', 'KPF728', 'Tesla', 'Aviator', 'red', 20170816, 'silver')\n",
      "('Jarred Newenle', 948281, 29, 60, 'amber', 'blonde', 'male', '553MZN', 'Lincoln', 'LS', 'black', 20170424, 'regular')\n",
      "('Jan Louthan', 948168, 37, 82, 'brown', 'brown', 'female', 'DP1ZKR', 'Buick', 'Regal', 'black', 20170606, 'silver')\n",
      "('Taylor Skyes', 946454, 54, 67, 'blue', 'green', 'male', 'A33U3B', 'Tesla', 'XC70', 'blue', 20180314, 'gold')\n",
      "('Jacqui Bonda', 938816, 43, 82, 'blue', 'red', 'female', 'MFY7C2', 'Hyundai', 'Tiburon', 'black', 20171010, 'gold')\n",
      "('Madge Bernice', 933374, 59, 53, 'blue', 'white', 'female', '3FV0QH', 'Mitsubishi', '3000GT', 'red', 20170503, 'gold')\n",
      "('Isaiah Bhagat', 928297, 76, 67, 'black', 'black', 'male', '51F1I1', 'Ford', 'E250', 'black', 20170625, 'regular')\n",
      "('Tu Lipkovitch', 927006, 65, 72, 'green', 'brown', 'female', '7X42J0', 'Tesla', 'IS', 'red', 20170608, 'gold')\n",
      "('Adrienne Fleishman', 926354, 73, 62, 'amber', 'brown', 'female', 'A07LUD', 'GMC', 'Envoy', 'black', 20170718, 'regular')\n",
      "('Ignacio Freistuhler', 924219, 31, 55, 'black', 'blue', 'male', 'XQT8HZ', 'Mazda', 'RX-8', 'red', 20170306, 'regular')\n",
      "('Jeremy Bowers', 923327, 30, 70, 'brown', 'brown', 'male', '0H42W2', 'Tesla', 'Spark LS', 'red', 20160101, 'gold')\n",
      "('George Cali', 921622, 67, 56, 'blue', 'blonde', 'male', 'FO7CCB', 'Honda', 'CR-V', 'blue', 20171218, 'regular')\n"
     ]
    }
   ],
   "source": [
    "#to make it easier for the players to guess\n",
    "cursor.execute('''\n",
    "        SELECT p.name, dl.*, gym.membership_start_date, gym.membership_status\n",
    "        FROM drivers_license dl\n",
    "        INNER JOIN person p ON dl.id = p.license_id \n",
    "        INNER JOIN get_fit_now_member as gym\n",
    "        ON p.id = gym.person_id \n",
    "\t\tORDER BY dl.id DESC\n",
    "\t\tLIMIT 20 \n",
    "    ''')\n",
    "\n",
    "rows = cursor.fetchall()\n",
    "\n",
    "if rows:\n",
    "    for row in rows:\n",
    "        print(row)"
   ]
  },
  {
   "cell_type": "code",
   "execution_count": 14,
   "metadata": {},
   "outputs": [],
   "source": [
    "user_murderer = input(\"Who are you accusing of murder?\")\n",
    "user_murderer = user_murderer.strip()"
   ]
  },
  {
   "cell_type": "markdown",
   "metadata": {},
   "source": [
    "Final Answer for Murderer:"
   ]
  },
  {
   "cell_type": "code",
   "execution_count": 16,
   "metadata": {},
   "outputs": [
    {
     "name": "stdout",
     "output_type": "stream",
     "text": [
      "('Jeremy Bowers',)\n"
     ]
    }
   ],
   "source": [
    "cursor.execute('''\n",
    "        SELECT p.name\n",
    "        FROM drivers_license dl\n",
    "        INNER JOIN person p \n",
    "        ON dl.id = p.license_id \n",
    "        INNER JOIN get_fit_now_member as gym\n",
    "        ON p.id = gym.person_id\n",
    "        INNER JOIN get_fit_now_check_in as checkin\n",
    "        ON gym.id = checkin.membership_id\n",
    "        WHERE plate_number LIKE '%H42W%' \n",
    "        AND membership_status = 'gold'\n",
    "        AND check_in_date = '20180109' \n",
    "    ''')\n",
    "\n",
    "rows = cursor.fetchall()\n",
    "\n",
    "if rows:\n",
    "    for row in rows:\n",
    "        print(row)"
   ]
  },
  {
   "cell_type": "code",
   "execution_count": 17,
   "metadata": {},
   "outputs": [
    {
     "name": "stdout",
     "output_type": "stream",
     "text": [
      "Wow, that is amazing. You did it! Jeremy is the murderer.\n"
     ]
    }
   ],
   "source": [
    "if user_murderer.lower() in ['jeremy', 'jeremy bowers', 'bowers', 'jeremybowers']:\n",
    "    print(f'Wow, that is amazing. You did it! {user_murderer.capitalize()} is the murderer.')\n",
    "    \n",
    "else:\n",
    "    print(f'Oh no! Your guess does not seem to be right. {user_murderer.capitalize()} is not the murderer. Please try again!')"
   ]
  },
  {
   "cell_type": "markdown",
   "metadata": {},
   "source": [
    "Give players an option to end game here, or continue with Mastermind problem"
   ]
  },
  {
   "cell_type": "markdown",
   "metadata": {},
   "source": [
    "If they continue, then show them the interview of the murderer - to start the next challenge"
   ]
  },
  {
   "cell_type": "code",
   "execution_count": 19,
   "metadata": {},
   "outputs": [
    {
     "name": "stdout",
     "output_type": "stream",
     "text": [
      "('I was hired by a woman with a lot of money. I don\\'t know her name but I know she\\'s around 5\\'5\" (65\") or 5\\'7\" (67\"). She has red hair and she drives a Tesla Model S. I know that she attended the SQL Symphony Concert 3 times in December 2017.\\n',)\n"
     ]
    }
   ],
   "source": [
    "cursor.execute('''\n",
    "        SELECT i.transcript\n",
    "        FROM interview as i\n",
    "        INNER JOIN person as p \n",
    "        ON p.id = i.person_id \n",
    "        WHERE p.name = 'Jeremy Bowers'  \n",
    "    ''')\n",
    "\n",
    "rows = cursor.fetchall()\n",
    "\n",
    "if rows:\n",
    "    for row in rows:\n",
    "        print(row)  "
   ]
  },
  {
   "cell_type": "markdown",
   "metadata": {},
   "source": [
    "Give them a sudoku/math problem to guess ID number of mastermind"
   ]
  },
  {
   "cell_type": "markdown",
   "metadata": {},
   "source": [
    "Show Secret Code - to make them guess ID number of Mastermind and take User's Input"
   ]
  },
  {
   "cell_type": "code",
   "execution_count": null,
   "metadata": {},
   "outputs": [],
   "source": [
    "user_Mid = input(\"Did you manage to solve the secret code to retrieve the ID number of the mastermind? Write the 4-digit number here:\")\n",
    "user_Mid = user_Mid.strip()"
   ]
  },
  {
   "cell_type": "code",
   "execution_count": 21,
   "metadata": {},
   "outputs": [
    {
     "name": "stdout",
     "output_type": "stream",
     "text": [
      "(202298, 68, 66, 'green', 'red', 'female', '500123', 'Tesla', 'Model S', 'black')\n",
      "(291182, 65, 66, 'blue', 'red', 'female', '08CM64', 'Tesla', 'Model S', 'red')\n",
      "(918773, 48, 65, 'black', 'red', 'female', '917UU3', 'Tesla', 'Model S', 'black')\n"
     ]
    }
   ],
   "source": [
    "cursor.execute('''\n",
    "        SELECT *\n",
    "        FROM drivers_license\n",
    "        WHERE LOWER(gender) = 'female'\n",
    "        AND LOWER(hair_color) = 'red'\n",
    "        AND LOWER(car_make) = 'tesla'\n",
    "        AND LOWER(car_model) = 'model s'\n",
    "        AND height BETWEEN 65 AND 67\n",
    "    ''')\n",
    "\n",
    "rows = cursor.fetchall()\n",
    "\n",
    "if rows:\n",
    "    for row in rows:\n",
    "        print(row)  "
   ]
  },
  {
   "cell_type": "code",
   "execution_count": 18,
   "metadata": {},
   "outputs": [
    {
     "ename": "OperationalError",
     "evalue": "no such table: mastermind",
     "output_type": "error",
     "traceback": [
      "\u001b[0;31m---------------------------------------------------------------------------\u001b[0m",
      "\u001b[0;31mOperationalError\u001b[0m                          Traceback (most recent call last)",
      "\u001b[0;32m<ipython-input-18-55be95cc16c4>\u001b[0m in \u001b[0;36m<module>\u001b[0;34m\u001b[0m\n\u001b[0;32m----> 1\u001b[0;31m cursor.execute('''\n\u001b[0m\u001b[1;32m      2\u001b[0m         \u001b[0mSELECT\u001b[0m \u001b[0;34m*\u001b[0m\u001b[0;34m\u001b[0m\u001b[0;34m\u001b[0m\u001b[0m\n\u001b[1;32m      3\u001b[0m         \u001b[0mFROM\u001b[0m \u001b[0mmastermind\u001b[0m \u001b[0;32mas\u001b[0m \u001b[0mm\u001b[0m\u001b[0;34m\u001b[0m\u001b[0;34m\u001b[0m\u001b[0m\n\u001b[1;32m      4\u001b[0m         \u001b[0mINNER\u001b[0m \u001b[0mJOIN\u001b[0m \u001b[0mperson\u001b[0m \u001b[0;32mas\u001b[0m \u001b[0mp\u001b[0m\u001b[0;34m\u001b[0m\u001b[0;34m\u001b[0m\u001b[0m\n\u001b[1;32m      5\u001b[0m         \u001b[0mON\u001b[0m \u001b[0mm\u001b[0m\u001b[0;34m.\u001b[0m\u001b[0mid\u001b[0m \u001b[0;34m=\u001b[0m \u001b[0mp\u001b[0m\u001b[0;34m.\u001b[0m\u001b[0mlicense_id\u001b[0m\u001b[0;34m\u001b[0m\u001b[0;34m\u001b[0m\u001b[0m\n",
      "\u001b[0;31mOperationalError\u001b[0m: no such table: mastermind"
     ]
    }
   ],
   "source": [
    "cursor.execute('''\n",
    "        SELECT *\n",
    "        FROM mastermind as m\n",
    "        INNER JOIN person as p\n",
    "        ON m.id = p.license_id\n",
    "        INNER JOIN income as i\n",
    "        ON p.ssn = i.ssn\n",
    "        INNER JOIN facebook_event_checkin as fb\n",
    "        ON p.id = fb.person_id\n",
    "        WHERE LOWER(fb.event_name) = 'sql symphony concert'\n",
    "        AND fb.date BETWEEN 20171201 AND 20171231\n",
    "        GROUP BY fb.event_name\n",
    "        HAVING COUNT(date) >= 3\n",
    "        ORDER BY i.annual_income DESC\n",
    "    ''')\n",
    "\n",
    "rows = cursor.fetchall()\n",
    "\n",
    "if rows:\n",
    "    for row in rows:\n",
    "        print(row)  "
   ]
  }
 ],
 "metadata": {
  "kernelspec": {
   "display_name": "Python 3",
   "language": "python",
   "name": "python3"
  },
  "language_info": {
   "codemirror_mode": {
    "name": "ipython",
    "version": 3
   },
   "file_extension": ".py",
   "mimetype": "text/x-python",
   "name": "python",
   "nbconvert_exporter": "python",
   "pygments_lexer": "ipython3",
   "version": "3.8.8"
  },
  "orig_nbformat": 4
 },
 "nbformat": 4,
 "nbformat_minor": 2
}
